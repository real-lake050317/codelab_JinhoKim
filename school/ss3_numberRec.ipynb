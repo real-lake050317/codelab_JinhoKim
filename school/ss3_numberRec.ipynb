{
  "nbformat": 4,
  "nbformat_minor": 0,
  "metadata": {
    "colab": {
      "name": "김진호 - ss3.ipynb",
      "provenance": [],
      "collapsed_sections": [],
      "include_colab_link": true
    },
    "kernelspec": {
      "name": "python3",
      "display_name": "Python 3"
    },
    "language_info": {
      "name": "python"
    }
  },
  "cells": [
    {
      "cell_type": "markdown",
      "metadata": {
        "id": "view-in-github",
        "colab_type": "text"
      },
      "source": [
        "<a href=\"https://colab.research.google.com/github/real-lake050317/codelab_JinhoKim/blob/main/school/ss3_numberRec.ipynb\" target=\"_parent\"><img src=\"https://colab.research.google.com/assets/colab-badge.svg\" alt=\"Open In Colab\"/></a>"
      ]
    },
    {
      "cell_type": "markdown",
      "source": [
        "# 김진호 - 숫자 인식 모델\n",
        "## All codes written by Jinho Kim, \n",
        "### All rights reserved.\n",
        "### May be distributed under BSD clause-2 license"
      ],
      "metadata": {
        "id": "IMz4xF8V1CJD"
      }
    },
    {
      "cell_type": "code",
      "source": [
        "import numpy as np\n",
        "import tensorflow as tf\n",
        "from tensorflow import keras\n",
        "\n",
        "from keras.models import Sequential  \n",
        "from keras.layers import Dense, Activation\n",
        "from keras.layers import Conv2D, MaxPooling2D, BatchNormalization, Flatten, Dropout\n",
        "from keras.utils import np_utils\n",
        "\n",
        "np.random.seed(777)  # 랜덤 시드"
      ],
      "metadata": {
        "id": "dXZpJeMwMRm7"
      },
      "execution_count": null,
      "outputs": []
    },
    {
      "cell_type": "code",
      "source": [
        "from keras.datasets import mnist\n",
        "\n",
        "nb_classes = 10\n",
        "\n",
        "(x_train, y_train), (x_test, y_test) = mnist.load_data()"
      ],
      "metadata": {
        "id": "rdRH3d2gMY6S",
        "colab": {
          "base_uri": "https://localhost:8080/"
        },
        "outputId": "aeec2ff4-852d-422c-ec3e-dc4737b76e51"
      },
      "execution_count": null,
      "outputs": [
        {
          "output_type": "stream",
          "name": "stdout",
          "text": [
            "Downloading data from https://storage.googleapis.com/tensorflow/tf-keras-datasets/mnist.npz\n",
            "11493376/11490434 [==============================] - 0s 0us/step\n",
            "11501568/11490434 [==============================] - 0s 0us/step\n"
          ]
        }
      ]
    },
    {
      "cell_type": "code",
      "source": [
        "import matplotlib.pyplot as plt\n",
        "\n",
        "id = 0\n",
        "\n",
        "plt.imshow(x_train[id])\n",
        "plt.show()\n",
        "\n",
        "print('y = ', y_train[id])"
      ],
      "metadata": {
        "id": "mf-pKUjXMq-y",
        "colab": {
          "base_uri": "https://localhost:8080/",
          "height": 283
        },
        "outputId": "4be41185-6594-4df4-b9d1-73ee1aecbe4a"
      },
      "execution_count": null,
      "outputs": [
        {
          "output_type": "display_data",
          "data": {
            "text/plain": [
              "<Figure size 432x288 with 1 Axes>"
            ],
            "image/png": "[encoded data removed]"
          },
          "metadata": {
            "needs_background": "light"
          }
        },
        {
          "output_type": "stream",
          "name": "stdout",
          "text": [
            "y =  5\n"
          ]
        }
      ]
    },
    {
      "cell_type": "code",
      "source": [
        "for x in x_train[id]:\n",
        "  for i in x:\n",
        "    print('{:3} '.format(i), end='') \n",
        "  print()\n",
        "# http://snowdeer.github.io/machine-learning/2018/01/09/recognize-mnist-data/"
      ],
      "metadata": {
        "id": "WZmjbq5bNHbh",
        "colab": {
          "base_uri": "https://localhost:8080/"
        },
        "outputId": "a92e5f32-0fc7-4f50-fe27-f28a32284c84"
      },
      "execution_count": null,
      "outputs": [
        {
          "output_type": "stream",
          "name": "stdout",
          "text": [
            "  0   0   0   0   0   0   0   0   0   0   0   0   0   0   0   0   0   0   0   0   0   0   0   0   0   0   0   0 \n",
            "  0   0   0   0   0   0   0   0   0   0   0   0   0   0   0   0   0   0   0   0   0   0   0   0   0   0   0   0 \n",
            "  0   0   0   0   0   0   0   0   0   0   0   0   0   0   0   0   0   0   0   0   0   0   0   0   0   0   0   0 \n",
            "  0   0   0   0   0   0   0   0   0   0   0   0   0   0   0   0   0   0   0   0   0   0   0   0   0   0   0   0 \n",
            "  0   0   0   0   0   0   0   0   0   0   0   0   0   0   0   0   0   0   0   0   0   0   0   0   0   0   0   0 \n",
            "  0   0   0   0   0   0   0   0   0   0   0   0   3  18  18  18 126 136 175  26 166 255 247 127   0   0   0   0 \n",
            "  0   0   0   0   0   0   0   0  30  36  94 154 170 253 253 253 253 253 225 172 253 242 195  64   0   0   0   0 \n",
            "  0   0   0   0   0   0   0  49 238 253 253 253 253 253 253 253 253 251  93  82  82  56  39   0   0   0   0   0 \n",
            "  0   0   0   0   0   0   0  18 219 253 253 253 253 253 198 182 247 241   0   0   0   0   0   0   0   0   0   0 \n",
            "  0   0   0   0   0   0   0   0  80 156 107 253 253 205  11   0  43 154   0   0   0   0   0   0   0   0   0   0 \n",
            "  0   0   0   0   0   0   0   0   0  14   1 154 253  90   0   0   0   0   0   0   0   0   0   0   0   0   0   0 \n",
            "  0   0   0   0   0   0   0   0   0   0   0 139 253 190   2   0   0   0   0   0   0   0   0   0   0   0   0   0 \n",
            "  0   0   0   0   0   0   0   0   0   0   0  11 190 253  70   0   0   0   0   0   0   0   0   0   0   0   0   0 \n",
            "  0   0   0   0   0   0   0   0   0   0   0   0  35 241 225 160 108   1   0   0   0   0   0   0   0   0   0   0 \n",
            "  0   0   0   0   0   0   0   0   0   0   0   0   0  81 240 253 253 119  25   0   0   0   0   0   0   0   0   0 \n",
            "  0   0   0   0   0   0   0   0   0   0   0   0   0   0  45 186 253 253 150  27   0   0   0   0   0   0   0   0 \n",
            "  0   0   0   0   0   0   0   0   0   0   0   0   0   0   0  16  93 252 253 187   0   0   0   0   0   0   0   0 \n",
            "  0   0   0   0   0   0   0   0   0   0   0   0   0   0   0   0   0 249 253 249  64   0   0   0   0   0   0   0 \n",
            "  0   0   0   0   0   0   0   0   0   0   0   0   0   0  46 130 183 253 253 207   2   0   0   0   0   0   0   0 \n",
            "  0   0   0   0   0   0   0   0   0   0   0   0  39 148 229 253 253 253 250 182   0   0   0   0   0   0   0   0 \n",
            "  0   0   0   0   0   0   0   0   0   0  24 114 221 253 253 253 253 201  78   0   0   0   0   0   0   0   0   0 \n",
            "  0   0   0   0   0   0   0   0  23  66 213 253 253 253 253 198  81   2   0   0   0   0   0   0   0   0   0   0 \n",
            "  0   0   0   0   0   0  18 171 219 253 253 253 253 195  80   9   0   0   0   0   0   0   0   0   0   0   0   0 \n",
            "  0   0   0   0  55 172 226 253 253 253 253 244 133  11   0   0   0   0   0   0   0   0   0   0   0   0   0   0 \n",
            "  0   0   0   0 136 253 253 253 212 135 132  16   0   0   0   0   0   0   0   0   0   0   0   0   0   0   0   0 \n",
            "  0   0   0   0   0   0   0   0   0   0   0   0   0   0   0   0   0   0   0   0   0   0   0   0   0   0   0   0 \n",
            "  0   0   0   0   0   0   0   0   0   0   0   0   0   0   0   0   0   0   0   0   0   0   0   0   0   0   0   0 \n",
            "  0   0   0   0   0   0   0   0   0   0   0   0   0   0   0   0   0   0   0   0   0   0   0   0   0   0   0   0 \n"
          ]
        }
      ]
    },
    {
      "cell_type": "code",
      "source": [
        "x_train1D = x_train.reshape(x_train.shape[0], x_train.shape[1] * x_train.shape[2])\n",
        "x_train1D = x_train1D.astype('float32') / 255\n",
        "# one_hot\n",
        "y_train_one_hot = np_utils.to_categorical(y_train, nb_classes) "
      ],
      "metadata": {
        "id": "1KP1mQtOM_Ya"
      },
      "execution_count": null,
      "outputs": []
    },
    {
      "cell_type": "code",
      "source": [
        "x_test1D = x_test.reshape(x_test.shape[0], x_test.shape[1] * x_test.shape[2])\n",
        "x_test1D = x_test1D.astype('float32') / 255\n",
        "# one_hot\n",
        "y_test_one_hot = np_utils.to_categorical(y_test, nb_classes)"
      ],
      "metadata": {
        "id": "3AOKy2q_NmhB"
      },
      "execution_count": null,
      "outputs": []
    },
    {
      "cell_type": "code",
      "source": [
        "activation = 'relu' # activation 함수: relu, sigmoid 등\n",
        "\n",
        "model = Sequential()\n",
        "\n",
        "model.add(Dense(100, input_dim=784))      # MNIST data image of shape 28 * 28 = 784\n",
        "model.add(Activation('sigmoid'))\n",
        "model.add(Dense(10))\n",
        "model.add(Activation('softmax'))"
      ],
      "metadata": {
        "id": "OaUw8dm26Pji"
      },
      "execution_count": null,
      "outputs": []
    },
    {
      "cell_type": "code",
      "source": [
        "model.summary()"
      ],
      "metadata": {
        "id": "iQokQCy36QL5",
        "colab": {
          "base_uri": "https://localhost:8080/"
        },
        "outputId": "936b638b-176e-412b-ab6a-211ce3d98935"
      },
      "execution_count": null,
      "outputs": [
        {
          "output_type": "stream",
          "name": "stdout",
          "text": [
            "Model: \"sequential\"\n",
            "_________________________________________________________________\n",
            " Layer (type)                Output Shape              Param #   \n",
            "=================================================================\n",
            " dense (Dense)               (None, 100)               78500     \n",
            "                                                                 \n",
            " activation (Activation)     (None, 100)               0         \n",
            "                                                                 \n",
            " dense_1 (Dense)             (None, 10)                1010      \n",
            "                                                                 \n",
            " activation_1 (Activation)   (None, 10)                0         \n",
            "                                                                 \n",
            "=================================================================\n",
            "Total params: 79,510\n",
            "Trainable params: 79,510\n",
            "Non-trainable params: 0\n",
            "_________________________________________________________________\n"
          ]
        }
      ]
    },
    {
      "cell_type": "code",
      "source": [
        "model.compile(loss='mean_absolute_error',    # mean square error, mean absolute error 등\n",
        "              optimizer='adam',   # sgd, adam, RMSprop etc.\n",
        "              metrics=['accuracy'])"
      ],
      "metadata": {
        "id": "78Cr3uj07ojJ"
      },
      "execution_count": null,
      "outputs": []
    },
    {
      "cell_type": "code",
      "source": [
        "history = model.fit(x_train1D, y_train_one_hot, epochs=30, batch_size=256)\n",
        "score = model.evaluate(x_test1D, y_test_one_hot)\n",
        "print('\\nAccuracy:', score[1])"
      ],
      "metadata": {
        "colab": {
          "base_uri": "https://localhost:8080/"
        },
        "id": "wfZGAKmqOGVi",
        "outputId": "df0c8a1f-1e07-4776-9b6b-113c12b442b7"
      },
      "execution_count": null,
      "outputs": [
        {
          "output_type": "stream",
          "name": "stdout",
          "text": [
            "Epoch 1/30\n",
            "235/235 [==============================] - 2s 7ms/step - loss: 7.1840e-04 - accuracy: 0.9984\n",
            "Epoch 2/30\n",
            "235/235 [==============================] - 2s 7ms/step - loss: 6.7604e-04 - accuracy: 0.9984\n",
            "Epoch 3/30\n",
            "235/235 [==============================] - 2s 6ms/step - loss: 6.4836e-04 - accuracy: 0.9984\n",
            "Epoch 4/30\n",
            "235/235 [==============================] - 2s 7ms/step - loss: 6.2037e-04 - accuracy: 0.9984\n",
            "Epoch 5/30\n",
            "235/235 [==============================] - 2s 6ms/step - loss: 5.9304e-04 - accuracy: 0.9984\n",
            "Epoch 6/30\n",
            "235/235 [==============================] - 2s 7ms/step - loss: 5.7466e-04 - accuracy: 0.9984\n",
            "Epoch 7/30\n",
            "235/235 [==============================] - 2s 7ms/step - loss: 5.5218e-04 - accuracy: 0.9985\n",
            "Epoch 8/30\n",
            "235/235 [==============================] - 2s 6ms/step - loss: 5.2728e-04 - accuracy: 0.9985\n",
            "Epoch 9/30\n",
            "235/235 [==============================] - 2s 6ms/step - loss: 5.0558e-04 - accuracy: 0.9985\n",
            "Epoch 10/30\n",
            "235/235 [==============================] - 1s 6ms/step - loss: 4.8712e-04 - accuracy: 0.9985\n",
            "Epoch 11/30\n",
            "235/235 [==============================] - 1s 6ms/step - loss: 4.6872e-04 - accuracy: 0.9986\n",
            "Epoch 12/30\n",
            "235/235 [==============================] - 1s 6ms/step - loss: 4.5320e-04 - accuracy: 0.9986\n",
            "Epoch 13/30\n",
            "235/235 [==============================] - 1s 6ms/step - loss: 4.3817e-04 - accuracy: 0.9986\n",
            "Epoch 14/30\n",
            "235/235 [==============================] - 1s 6ms/step - loss: 4.2225e-04 - accuracy: 0.9986\n",
            "Epoch 15/30\n",
            "235/235 [==============================] - 1s 6ms/step - loss: 4.0795e-04 - accuracy: 0.9986\n",
            "Epoch 16/30\n",
            "235/235 [==============================] - 1s 6ms/step - loss: 4.0039e-04 - accuracy: 0.9987\n",
            "Epoch 17/30\n",
            "235/235 [==============================] - 2s 6ms/step - loss: 3.8988e-04 - accuracy: 0.9987\n",
            "Epoch 18/30\n",
            "235/235 [==============================] - 2s 6ms/step - loss: 3.7665e-04 - accuracy: 0.9987\n",
            "Epoch 19/30\n",
            "235/235 [==============================] - 1s 6ms/step - loss: 3.6583e-04 - accuracy: 0.9987\n",
            "Epoch 20/30\n",
            "235/235 [==============================] - 2s 6ms/step - loss: 3.5874e-04 - accuracy: 0.9987\n",
            "Epoch 21/30\n",
            "235/235 [==============================] - 1s 6ms/step - loss: 3.4867e-04 - accuracy: 0.9987\n",
            "Epoch 22/30\n",
            "235/235 [==============================] - 2s 7ms/step - loss: 3.4074e-04 - accuracy: 0.9987\n",
            "Epoch 23/30\n",
            "235/235 [==============================] - 2s 9ms/step - loss: 3.3296e-04 - accuracy: 0.9987\n",
            "Epoch 24/30\n",
            "235/235 [==============================] - 2s 7ms/step - loss: 3.2463e-04 - accuracy: 0.9987\n",
            "Epoch 25/30\n",
            "235/235 [==============================] - 1s 6ms/step - loss: 3.1995e-04 - accuracy: 0.9987\n",
            "Epoch 26/30\n",
            "235/235 [==============================] - 1s 6ms/step - loss: 3.1467e-04 - accuracy: 0.9987\n",
            "Epoch 27/30\n",
            "235/235 [==============================] - 1s 6ms/step - loss: 3.0762e-04 - accuracy: 0.9987\n",
            "Epoch 28/30\n",
            "235/235 [==============================] - 2s 7ms/step - loss: 3.0184e-04 - accuracy: 0.9987\n",
            "Epoch 29/30\n",
            "235/235 [==============================] - 2s 9ms/step - loss: 2.9805e-04 - accuracy: 0.9987\n",
            "Epoch 30/30\n",
            "235/235 [==============================] - 2s 8ms/step - loss: 2.9172e-04 - accuracy: 0.9988\n",
            "313/313 [==============================] - 1s 2ms/step - loss: 0.0047 - accuracy: 0.9784\n",
            "\n",
            "Accuracy: 0.9783999919891357\n"
          ]
        }
      ]
    },
    {
      "cell_type": "markdown",
      "source": [
        "# **성능평가 결과**\n",
        "\n",
        "\n",
        "* MSE + sgd : 0.88\n",
        "* MSE + adam : 0.91\n",
        "* MAE + sgd : 0.92\n",
        "* MAE + adam : 0.97\n",
        "* MAE + RMSprop: 0.978"
      ],
      "metadata": {
        "id": "zGqA4ymMzrgZ"
      }
    },
    {
      "cell_type": "code",
      "source": [
        "test_id = 0 # id 변경 후 실행\n",
        "plt.imshow(x_test[test_id])\n",
        "plt.show()\n",
        "\n",
        "print('Answer: ', y_test[test_id])\n",
        "\n",
        "test_img = x_test1D[test_id]\n",
        "test_img = test_img.reshape(1,28*28)\n",
        "\n",
        "y_prob = model.predict(test_img, verbose = 0)\n",
        "print(y_prob)\n",
        "\n",
        "y_pred = model.predict(test_img, verbose = 0)\n",
        "print(\"Prediction: \", np.argmax(y_pred))"
      ],
      "metadata": {
        "id": "wf23tWkooz5n",
        "outputId": "f91c1e74-cef4-446d-f00c-95aba3b3a639",
        "colab": {
          "base_uri": "https://localhost:8080/",
          "height": 336
        }
      },
      "execution_count": null,
      "outputs": [
        {
          "output_type": "display_data",
          "data": {
            "text/plain": [
              "<Figure size 432x288 with 1 Axes>"
            ],
            "image/png": "[encoded data removed]"
          },
          "metadata": {
            "needs_background": "light"
          }
        },
        {
          "output_type": "stream",
          "name": "stdout",
          "text": [
            "Answer:  7\n",
            "[[2.2312432e-15 1.0136879e-16 2.9320233e-12 4.3406847e-09 3.1365784e-20\n",
            "  5.6452989e-12 3.5905634e-22 1.0000000e+00 3.3241925e-12 1.2444069e-10]]\n",
            "Prediction:  7\n"
          ]
        }
      ]
    }
  ]
}